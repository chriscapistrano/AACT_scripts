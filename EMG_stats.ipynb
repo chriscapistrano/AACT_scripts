{
 "cells": [
  {
   "cell_type": "code",
   "execution_count": 1,
   "metadata": {},
   "outputs": [],
   "source": [
    "#Run some EMG stats\n",
    "#Indvidual level stats first (e.g., average per channel, average per channel as a function of condition, etc.)"
   ]
  },
  {
   "cell_type": "code",
   "execution_count": 2,
   "metadata": {},
   "outputs": [],
   "source": [
    "import pandas as pd\n",
    "import numpy as np"
   ]
  },
  {
   "cell_type": "code",
   "execution_count": 3,
   "metadata": {},
   "outputs": [
    {
     "name": "stdout",
     "output_type": "stream",
     "text": [
      "1002.csv         2013.csv         2034.csv         2057.csv\r\n",
      "1004.csv         2014.csv         2035.csv         2058.csv\r\n",
      "1047.csv         2015.csv         2036.csv         2059.csv\r\n",
      "1053.csv         2017.csv         2038.csv         2060.csv\r\n",
      "1055.csv         2018.csv         2039.csv         2061.csv\r\n",
      "1057.csv         2020.csv         2040.csv         2062.csv\r\n",
      "1061.csv         2021.csv         2042.csv         2063.csv\r\n",
      "1063.csv         2022.csv         2043.csv         2064.csv\r\n",
      "1069.csv         2023.csv         2044.csv         2065.csv\r\n",
      "2001.csv         2024.csv         2045.csv         2066.csv\r\n",
      "2002.csv         2025.csv         2048.csv         2067.csv\r\n",
      "2003.csv         2026.csv         2049.csv         2068.csv\r\n",
      "2005.csv         2027.csv         2050.csv         2069.csv\r\n",
      "2006.csv         2028.csv         2052.csv         2070.csv\r\n",
      "2008.csv         2029.csv         2053.csv         2071.csv\r\n",
      "2009.csv         2031.csv         2054.csv         EMG_stats.ipynb\r\n",
      "2011.csv         2032.csv         2055.csv\r\n",
      "2012.csv         2033.csv         2056.csv\r\n"
     ]
    }
   ],
   "source": [
    "%ls"
   ]
  },
  {
   "cell_type": "code",
   "execution_count": 4,
   "metadata": {},
   "outputs": [
    {
     "data": {
      "text/html": [
       "<div>\n",
       "<style scoped>\n",
       "    .dataframe tbody tr th:only-of-type {\n",
       "        vertical-align: middle;\n",
       "    }\n",
       "\n",
       "    .dataframe tbody tr th {\n",
       "        vertical-align: top;\n",
       "    }\n",
       "\n",
       "    .dataframe thead th {\n",
       "        text-align: right;\n",
       "    }\n",
       "</style>\n",
       "<table border=\"1\" class=\"dataframe\">\n",
       "  <thead>\n",
       "    <tr style=\"text-align: right;\">\n",
       "      <th></th>\n",
       "      <th>Unnamed: 0</th>\n",
       "      <th>Epoch Analysis</th>\n",
       "      <th>Time</th>\n",
       "      <th>CH14_value</th>\n",
       "      <th>CH14_delta</th>\n",
       "      <th>CH14_peak</th>\n",
       "      <th>CH15_value</th>\n",
       "      <th>CH15_delta</th>\n",
       "      <th>CH15_peak</th>\n",
       "      <th>target</th>\n",
       "      <th>condition</th>\n",
       "    </tr>\n",
       "  </thead>\n",
       "  <tbody>\n",
       "    <tr>\n",
       "      <th>0</th>\n",
       "      <td>0</td>\n",
       "      <td>1</td>\n",
       "      <td>4.5</td>\n",
       "      <td>0.001831</td>\n",
       "      <td>0.001068</td>\n",
       "      <td>0.006866</td>\n",
       "      <td>-0.002289</td>\n",
       "      <td>-0.000458</td>\n",
       "      <td>0.024109</td>\n",
       "      <td>other</td>\n",
       "      <td>dec</td>\n",
       "    </tr>\n",
       "    <tr>\n",
       "      <th>1</th>\n",
       "      <td>1</td>\n",
       "      <td>2</td>\n",
       "      <td>20.5</td>\n",
       "      <td>0.001831</td>\n",
       "      <td>0.000610</td>\n",
       "      <td>0.007019</td>\n",
       "      <td>-0.001984</td>\n",
       "      <td>0.001221</td>\n",
       "      <td>0.018768</td>\n",
       "      <td>other</td>\n",
       "      <td>neut</td>\n",
       "    </tr>\n",
       "    <tr>\n",
       "      <th>2</th>\n",
       "      <td>2</td>\n",
       "      <td>3</td>\n",
       "      <td>36.5</td>\n",
       "      <td>0.000153</td>\n",
       "      <td>0.003052</td>\n",
       "      <td>0.010376</td>\n",
       "      <td>-0.002136</td>\n",
       "      <td>-0.002594</td>\n",
       "      <td>0.024414</td>\n",
       "      <td>other</td>\n",
       "      <td>dec</td>\n",
       "    </tr>\n",
       "    <tr>\n",
       "      <th>3</th>\n",
       "      <td>3</td>\n",
       "      <td>4</td>\n",
       "      <td>52.5</td>\n",
       "      <td>0.001678</td>\n",
       "      <td>0.000458</td>\n",
       "      <td>0.008087</td>\n",
       "      <td>-0.002747</td>\n",
       "      <td>-0.000153</td>\n",
       "      <td>0.016022</td>\n",
       "      <td>other</td>\n",
       "      <td>dec</td>\n",
       "    </tr>\n",
       "    <tr>\n",
       "      <th>4</th>\n",
       "      <td>4</td>\n",
       "      <td>5</td>\n",
       "      <td>68.5</td>\n",
       "      <td>0.001831</td>\n",
       "      <td>-0.000610</td>\n",
       "      <td>0.012817</td>\n",
       "      <td>-0.002289</td>\n",
       "      <td>0.001526</td>\n",
       "      <td>0.014801</td>\n",
       "      <td>other</td>\n",
       "      <td>dec</td>\n",
       "    </tr>\n",
       "  </tbody>\n",
       "</table>\n",
       "</div>"
      ],
      "text/plain": [
       "   Unnamed: 0  Epoch Analysis  Time  CH14_value  CH14_delta  CH14_peak  \\\n",
       "0           0               1   4.5    0.001831    0.001068   0.006866   \n",
       "1           1               2  20.5    0.001831    0.000610   0.007019   \n",
       "2           2               3  36.5    0.000153    0.003052   0.010376   \n",
       "3           3               4  52.5    0.001678    0.000458   0.008087   \n",
       "4           4               5  68.5    0.001831   -0.000610   0.012817   \n",
       "\n",
       "   CH15_value  CH15_delta  CH15_peak target condition  \n",
       "0   -0.002289   -0.000458   0.024109  other       dec  \n",
       "1   -0.001984    0.001221   0.018768  other      neut  \n",
       "2   -0.002136   -0.002594   0.024414  other       dec  \n",
       "3   -0.002747   -0.000153   0.016022  other       dec  \n",
       "4   -0.002289    0.001526   0.014801  other       dec  "
      ]
     },
     "execution_count": 4,
     "metadata": {},
     "output_type": "execute_result"
    }
   ],
   "source": [
    "df = pd.read_csv('1069.csv')\n",
    "df.head()"
   ]
  },
  {
   "cell_type": "code",
   "execution_count": 5,
   "metadata": {},
   "outputs": [],
   "source": [
    "#get average 'Peak to Peak (aka CH14_peak and CH15_peak)' as a function of condition (neut, neg, dec)\n",
    "\n",
    "#first group by condition, then get the mean of CH14 and CH15\n",
    "cond = df.groupby(['condition']).mean()"
   ]
  },
  {
   "cell_type": "code",
   "execution_count": 6,
   "metadata": {},
   "outputs": [
    {
     "data": {
      "text/html": [
       "<div>\n",
       "<style scoped>\n",
       "    .dataframe tbody tr th:only-of-type {\n",
       "        vertical-align: middle;\n",
       "    }\n",
       "\n",
       "    .dataframe tbody tr th {\n",
       "        vertical-align: top;\n",
       "    }\n",
       "\n",
       "    .dataframe thead th {\n",
       "        text-align: right;\n",
       "    }\n",
       "</style>\n",
       "<table border=\"1\" class=\"dataframe\">\n",
       "  <thead>\n",
       "    <tr style=\"text-align: right;\">\n",
       "      <th></th>\n",
       "      <th>Unnamed: 0</th>\n",
       "      <th>Epoch Analysis</th>\n",
       "      <th>Time</th>\n",
       "      <th>CH14_value</th>\n",
       "      <th>CH14_delta</th>\n",
       "      <th>CH14_peak</th>\n",
       "      <th>CH15_value</th>\n",
       "      <th>CH15_delta</th>\n",
       "      <th>CH15_peak</th>\n",
       "    </tr>\n",
       "    <tr>\n",
       "      <th>condition</th>\n",
       "      <th></th>\n",
       "      <th></th>\n",
       "      <th></th>\n",
       "      <th></th>\n",
       "      <th></th>\n",
       "      <th></th>\n",
       "      <th></th>\n",
       "      <th></th>\n",
       "      <th></th>\n",
       "    </tr>\n",
       "  </thead>\n",
       "  <tbody>\n",
       "    <tr>\n",
       "      <th>dec</th>\n",
       "      <td>93.584615</td>\n",
       "      <td>11.876923</td>\n",
       "      <td>1533.104677</td>\n",
       "      <td>0.001047</td>\n",
       "      <td>0.000486</td>\n",
       "      <td>0.013695</td>\n",
       "      <td>-0.002348</td>\n",
       "      <td>-0.000049</td>\n",
       "      <td>0.020219</td>\n",
       "    </tr>\n",
       "    <tr>\n",
       "      <th>neg</th>\n",
       "      <td>97.666667</td>\n",
       "      <td>13.333333</td>\n",
       "      <td>1599.409587</td>\n",
       "      <td>0.001523</td>\n",
       "      <td>0.002122</td>\n",
       "      <td>0.021546</td>\n",
       "      <td>-0.001664</td>\n",
       "      <td>0.000329</td>\n",
       "      <td>0.022171</td>\n",
       "    </tr>\n",
       "    <tr>\n",
       "      <th>neut</th>\n",
       "      <td>95.312500</td>\n",
       "      <td>12.312500</td>\n",
       "      <td>1561.239125</td>\n",
       "      <td>0.000541</td>\n",
       "      <td>-0.000188</td>\n",
       "      <td>0.010700</td>\n",
       "      <td>-0.001779</td>\n",
       "      <td>-0.000355</td>\n",
       "      <td>0.020969</td>\n",
       "    </tr>\n",
       "  </tbody>\n",
       "</table>\n",
       "</div>"
      ],
      "text/plain": [
       "           Unnamed: 0  Epoch Analysis         Time  CH14_value  CH14_delta  \\\n",
       "condition                                                                    \n",
       "dec         93.584615       11.876923  1533.104677    0.001047    0.000486   \n",
       "neg         97.666667       13.333333  1599.409587    0.001523    0.002122   \n",
       "neut        95.312500       12.312500  1561.239125    0.000541   -0.000188   \n",
       "\n",
       "           CH14_peak  CH15_value  CH15_delta  CH15_peak  \n",
       "condition                                                \n",
       "dec         0.013695   -0.002348   -0.000049   0.020219  \n",
       "neg         0.021546   -0.001664    0.000329   0.022171  \n",
       "neut        0.010700   -0.001779   -0.000355   0.020969  "
      ]
     },
     "execution_count": 6,
     "metadata": {},
     "output_type": "execute_result"
    }
   ],
   "source": [
    "cond"
   ]
  },
  {
   "cell_type": "code",
   "execution_count": 7,
   "metadata": {},
   "outputs": [],
   "source": [
    "CH15 = cond['CH15_peak']\n",
    "CH14 = cond['CH14_peak']"
   ]
  },
  {
   "cell_type": "code",
   "execution_count": 8,
   "metadata": {},
   "outputs": [
    {
     "data": {
      "text/html": [
       "<div>\n",
       "<style scoped>\n",
       "    .dataframe tbody tr th:only-of-type {\n",
       "        vertical-align: middle;\n",
       "    }\n",
       "\n",
       "    .dataframe tbody tr th {\n",
       "        vertical-align: top;\n",
       "    }\n",
       "\n",
       "    .dataframe thead th {\n",
       "        text-align: right;\n",
       "    }\n",
       "</style>\n",
       "<table border=\"1\" class=\"dataframe\">\n",
       "  <thead>\n",
       "    <tr style=\"text-align: right;\">\n",
       "      <th>condition</th>\n",
       "      <th>dec</th>\n",
       "      <th>neg</th>\n",
       "      <th>neut</th>\n",
       "    </tr>\n",
       "  </thead>\n",
       "  <tbody>\n",
       "    <tr>\n",
       "      <th>CH15_peak</th>\n",
       "      <td>0.020219</td>\n",
       "      <td>0.022171</td>\n",
       "      <td>0.020969</td>\n",
       "    </tr>\n",
       "  </tbody>\n",
       "</table>\n",
       "</div>"
      ],
      "text/plain": [
       "condition       dec       neg      neut\n",
       "CH15_peak  0.020219  0.022171  0.020969"
      ]
     },
     "execution_count": 8,
     "metadata": {},
     "output_type": "execute_result"
    }
   ],
   "source": [
    "pd.DataFrame(CH15).T\n"
   ]
  },
  {
   "cell_type": "code",
   "execution_count": 9,
   "metadata": {},
   "outputs": [
    {
     "data": {
      "text/html": [
       "<div>\n",
       "<style scoped>\n",
       "    .dataframe tbody tr th:only-of-type {\n",
       "        vertical-align: middle;\n",
       "    }\n",
       "\n",
       "    .dataframe tbody tr th {\n",
       "        vertical-align: top;\n",
       "    }\n",
       "\n",
       "    .dataframe thead th {\n",
       "        text-align: right;\n",
       "    }\n",
       "</style>\n",
       "<table border=\"1\" class=\"dataframe\">\n",
       "  <thead>\n",
       "    <tr style=\"text-align: right;\">\n",
       "      <th>condition</th>\n",
       "      <th>dec</th>\n",
       "      <th>neg</th>\n",
       "      <th>neut</th>\n",
       "    </tr>\n",
       "  </thead>\n",
       "  <tbody>\n",
       "    <tr>\n",
       "      <th>CH14_peak</th>\n",
       "      <td>0.013695</td>\n",
       "      <td>0.021546</td>\n",
       "      <td>0.0107</td>\n",
       "    </tr>\n",
       "  </tbody>\n",
       "</table>\n",
       "</div>"
      ],
      "text/plain": [
       "condition       dec       neg    neut\n",
       "CH14_peak  0.013695  0.021546  0.0107"
      ]
     },
     "execution_count": 9,
     "metadata": {},
     "output_type": "execute_result"
    }
   ],
   "source": [
    "pd.DataFrame(CH14).T"
   ]
  },
  {
   "cell_type": "code",
   "execution_count": null,
   "metadata": {},
   "outputs": [],
   "source": []
  }
 ],
 "metadata": {
  "kernelspec": {
   "display_name": "Python 3",
   "language": "python",
   "name": "python3"
  },
  "language_info": {
   "codemirror_mode": {
    "name": "ipython",
    "version": 3
   },
   "file_extension": ".py",
   "mimetype": "text/x-python",
   "name": "python",
   "nbconvert_exporter": "python",
   "pygments_lexer": "ipython3",
   "version": "3.6.5"
  }
 },
 "nbformat": 4,
 "nbformat_minor": 2
}
