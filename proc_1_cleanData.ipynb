{
 "cells": [
  {
   "cell_type": "code",
   "execution_count": 1,
   "metadata": {},
   "outputs": [],
   "source": [
    "#clean ROSE individual datasets to prepare for analysis"
   ]
  },
  {
   "cell_type": "code",
   "execution_count": 2,
   "metadata": {},
   "outputs": [],
   "source": [
    "import pandas as pd"
   ]
  },
  {
   "cell_type": "code",
   "execution_count": 3,
   "metadata": {},
   "outputs": [],
   "source": [
    "df = pd.read_excel('2024.xlsx')"
   ]
  },
  {
   "cell_type": "code",
   "execution_count": 4,
   "metadata": {},
   "outputs": [],
   "source": [
    "#we only need the following columns \n",
    "#Target, Rating.RESP, ImageType, Rate\n",
    "\n",
    "df_clean = df[['Target', 'Rating.RESP', 'ImageType', 'Rate']] "
   ]
  },
  {
   "cell_type": "code",
   "execution_count": 5,
   "metadata": {},
   "outputs": [
    {
     "data": {
      "text/html": [
       "<div>\n",
       "<style scoped>\n",
       "    .dataframe tbody tr th:only-of-type {\n",
       "        vertical-align: middle;\n",
       "    }\n",
       "\n",
       "    .dataframe tbody tr th {\n",
       "        vertical-align: top;\n",
       "    }\n",
       "\n",
       "    .dataframe thead th {\n",
       "        text-align: right;\n",
       "    }\n",
       "</style>\n",
       "<table border=\"1\" class=\"dataframe\">\n",
       "  <thead>\n",
       "    <tr style=\"text-align: right;\">\n",
       "      <th></th>\n",
       "      <th>Target</th>\n",
       "      <th>Rating.RESP</th>\n",
       "      <th>ImageType</th>\n",
       "      <th>Rate</th>\n",
       "    </tr>\n",
       "  </thead>\n",
       "  <tbody>\n",
       "    <tr>\n",
       "      <th>0</th>\n",
       "      <td>self</td>\n",
       "      <td>1.0</td>\n",
       "      <td>neut</td>\n",
       "      <td>diffLook.jpg</td>\n",
       "    </tr>\n",
       "    <tr>\n",
       "      <th>1</th>\n",
       "      <td>self</td>\n",
       "      <td>NaN</td>\n",
       "      <td>dec</td>\n",
       "      <td>diffDec.jpg</td>\n",
       "    </tr>\n",
       "    <tr>\n",
       "      <th>2</th>\n",
       "      <td>self</td>\n",
       "      <td>7.0</td>\n",
       "      <td>neg</td>\n",
       "      <td>negativityScale.jpg</td>\n",
       "    </tr>\n",
       "    <tr>\n",
       "      <th>3</th>\n",
       "      <td>self</td>\n",
       "      <td>NaN</td>\n",
       "      <td>neg</td>\n",
       "      <td>diffLook.jpg</td>\n",
       "    </tr>\n",
       "    <tr>\n",
       "      <th>4</th>\n",
       "      <td>self</td>\n",
       "      <td>1.0</td>\n",
       "      <td>neut</td>\n",
       "      <td>negativityScale.jpg</td>\n",
       "    </tr>\n",
       "  </tbody>\n",
       "</table>\n",
       "</div>"
      ],
      "text/plain": [
       "  Target  Rating.RESP ImageType                 Rate\n",
       "0   self          1.0      neut         diffLook.jpg\n",
       "1   self          NaN       dec          diffDec.jpg\n",
       "2   self          7.0       neg  negativityScale.jpg\n",
       "3   self          NaN       neg         diffLook.jpg\n",
       "4   self          1.0      neut  negativityScale.jpg"
      ]
     },
     "execution_count": 5,
     "metadata": {},
     "output_type": "execute_result"
    }
   ],
   "source": [
    "df_clean.head()"
   ]
  },
  {
   "cell_type": "code",
   "execution_count": 6,
   "metadata": {},
   "outputs": [
    {
     "data": {
      "text/html": [
       "<div>\n",
       "<style scoped>\n",
       "    .dataframe tbody tr th:only-of-type {\n",
       "        vertical-align: middle;\n",
       "    }\n",
       "\n",
       "    .dataframe tbody tr th {\n",
       "        vertical-align: top;\n",
       "    }\n",
       "\n",
       "    .dataframe thead th {\n",
       "        text-align: right;\n",
       "    }\n",
       "</style>\n",
       "<table border=\"1\" class=\"dataframe\">\n",
       "  <thead>\n",
       "    <tr style=\"text-align: right;\">\n",
       "      <th></th>\n",
       "      <th>Target</th>\n",
       "      <th>Rating</th>\n",
       "      <th>Condition</th>\n",
       "      <th>Diff_Neg</th>\n",
       "    </tr>\n",
       "  </thead>\n",
       "  <tbody>\n",
       "    <tr>\n",
       "      <th>0</th>\n",
       "      <td>self</td>\n",
       "      <td>1.0</td>\n",
       "      <td>neut</td>\n",
       "      <td>diffLook.jpg</td>\n",
       "    </tr>\n",
       "    <tr>\n",
       "      <th>1</th>\n",
       "      <td>self</td>\n",
       "      <td>NaN</td>\n",
       "      <td>dec</td>\n",
       "      <td>diffDec.jpg</td>\n",
       "    </tr>\n",
       "    <tr>\n",
       "      <th>2</th>\n",
       "      <td>self</td>\n",
       "      <td>7.0</td>\n",
       "      <td>neg</td>\n",
       "      <td>negativityScale.jpg</td>\n",
       "    </tr>\n",
       "    <tr>\n",
       "      <th>3</th>\n",
       "      <td>self</td>\n",
       "      <td>NaN</td>\n",
       "      <td>neg</td>\n",
       "      <td>diffLook.jpg</td>\n",
       "    </tr>\n",
       "    <tr>\n",
       "      <th>4</th>\n",
       "      <td>self</td>\n",
       "      <td>1.0</td>\n",
       "      <td>neut</td>\n",
       "      <td>negativityScale.jpg</td>\n",
       "    </tr>\n",
       "  </tbody>\n",
       "</table>\n",
       "</div>"
      ],
      "text/plain": [
       "  Target  Rating Condition             Diff_Neg\n",
       "0   self     1.0      neut         diffLook.jpg\n",
       "1   self     NaN       dec          diffDec.jpg\n",
       "2   self     7.0       neg  negativityScale.jpg\n",
       "3   self     NaN       neg         diffLook.jpg\n",
       "4   self     1.0      neut  negativityScale.jpg"
      ]
     },
     "execution_count": 6,
     "metadata": {},
     "output_type": "execute_result"
    }
   ],
   "source": [
    "#rename the columns\n",
    "df_clean = df_clean.rename(columns={'Rating.RESP': 'Rating', 'ImageType': 'Condition', 'Rate': 'Diff_Neg'})\n",
    "df_clean.head()"
   ]
  },
  {
   "cell_type": "code",
   "execution_count": 7,
   "metadata": {},
   "outputs": [],
   "source": [
    "#save to csv\n",
    "#df_clean.to_csv('clean_data/2002.csv')"
   ]
  },
  {
   "cell_type": "code",
   "execution_count": 8,
   "metadata": {},
   "outputs": [],
   "source": [
    "#filter (need only negativity ratings for \"Self\")\n",
    "#affect = df_clean[(df_clean['Diff_Neg']=='negativityScale.jpg') & (df_clean['Target'] == 'self')]"
   ]
  },
  {
   "cell_type": "code",
   "execution_count": 9,
   "metadata": {},
   "outputs": [],
   "source": [
    "#affect.head()"
   ]
  },
  {
   "cell_type": "code",
   "execution_count": 10,
   "metadata": {},
   "outputs": [],
   "source": [
    "#affect_ratings = affect.groupby(['Condition']).mean()"
   ]
  },
  {
   "cell_type": "code",
   "execution_count": 11,
   "metadata": {},
   "outputs": [],
   "source": [
    "#pd.DataFrame(affect_ratings).T"
   ]
  },
  {
   "cell_type": "code",
   "execution_count": 12,
   "metadata": {},
   "outputs": [],
   "source": [
    "#filter (need only negativity ratings for \"Self\")\n",
    "#difficulty = df_clean[(df_clean['Diff_Neg']=='diffDec.jpg') & (df_clean['Diff_Neg']=='diffLook.jpg')\n",
    " #                     & (df_clean['Target'] == 'self')]"
   ]
  },
  {
   "cell_type": "code",
   "execution_count": 13,
   "metadata": {},
   "outputs": [],
   "source": [
    "ratings = df_clean.groupby(['Target', 'Diff_Neg' ,'Condition']).mean()"
   ]
  },
  {
   "cell_type": "code",
   "execution_count": 14,
   "metadata": {},
   "outputs": [
    {
     "data": {
      "text/html": [
       "<div>\n",
       "<style scoped>\n",
       "    .dataframe tbody tr th:only-of-type {\n",
       "        vertical-align: middle;\n",
       "    }\n",
       "\n",
       "    .dataframe tbody tr th {\n",
       "        vertical-align: top;\n",
       "    }\n",
       "\n",
       "    .dataframe thead th {\n",
       "        text-align: right;\n",
       "    }\n",
       "</style>\n",
       "<table border=\"1\" class=\"dataframe\">\n",
       "  <thead>\n",
       "    <tr style=\"text-align: right;\">\n",
       "      <th></th>\n",
       "      <th></th>\n",
       "      <th></th>\n",
       "      <th>Rating</th>\n",
       "    </tr>\n",
       "    <tr>\n",
       "      <th>Target</th>\n",
       "      <th>Diff_Neg</th>\n",
       "      <th>Condition</th>\n",
       "      <th></th>\n",
       "    </tr>\n",
       "  </thead>\n",
       "  <tbody>\n",
       "    <tr>\n",
       "      <th rowspan=\"6\" valign=\"top\">other</th>\n",
       "      <th>diffDec.jpg</th>\n",
       "      <th>dec</th>\n",
       "      <td>4.687500</td>\n",
       "    </tr>\n",
       "    <tr>\n",
       "      <th rowspan=\"2\" valign=\"top\">diffLook.jpg</th>\n",
       "      <th>neg</th>\n",
       "      <td>2.533333</td>\n",
       "    </tr>\n",
       "    <tr>\n",
       "      <th>neut</th>\n",
       "      <td>1.000000</td>\n",
       "    </tr>\n",
       "    <tr>\n",
       "      <th rowspan=\"3\" valign=\"top\">negativityScale.jpg</th>\n",
       "      <th>dec</th>\n",
       "      <td>4.642857</td>\n",
       "    </tr>\n",
       "    <tr>\n",
       "      <th>neg</th>\n",
       "      <td>6.266667</td>\n",
       "    </tr>\n",
       "    <tr>\n",
       "      <th>neut</th>\n",
       "      <td>1.000000</td>\n",
       "    </tr>\n",
       "    <tr>\n",
       "      <th rowspan=\"6\" valign=\"top\">self</th>\n",
       "      <th>diffDec.jpg</th>\n",
       "      <th>dec</th>\n",
       "      <td>4.846154</td>\n",
       "    </tr>\n",
       "    <tr>\n",
       "      <th rowspan=\"2\" valign=\"top\">diffLook.jpg</th>\n",
       "      <th>neg</th>\n",
       "      <td>2.785714</td>\n",
       "    </tr>\n",
       "    <tr>\n",
       "      <th>neut</th>\n",
       "      <td>1.200000</td>\n",
       "    </tr>\n",
       "    <tr>\n",
       "      <th rowspan=\"3\" valign=\"top\">negativityScale.jpg</th>\n",
       "      <th>dec</th>\n",
       "      <td>5.750000</td>\n",
       "    </tr>\n",
       "    <tr>\n",
       "      <th>neg</th>\n",
       "      <td>6.750000</td>\n",
       "    </tr>\n",
       "    <tr>\n",
       "      <th>neut</th>\n",
       "      <td>1.312500</td>\n",
       "    </tr>\n",
       "  </tbody>\n",
       "</table>\n",
       "</div>"
      ],
      "text/plain": [
       "                                        Rating\n",
       "Target Diff_Neg            Condition          \n",
       "other  diffDec.jpg         dec        4.687500\n",
       "       diffLook.jpg        neg        2.533333\n",
       "                           neut       1.000000\n",
       "       negativityScale.jpg dec        4.642857\n",
       "                           neg        6.266667\n",
       "                           neut       1.000000\n",
       "self   diffDec.jpg         dec        4.846154\n",
       "       diffLook.jpg        neg        2.785714\n",
       "                           neut       1.200000\n",
       "       negativityScale.jpg dec        5.750000\n",
       "                           neg        6.750000\n",
       "                           neut       1.312500"
      ]
     },
     "execution_count": 14,
     "metadata": {},
     "output_type": "execute_result"
    }
   ],
   "source": [
    "ratings"
   ]
  },
  {
   "cell_type": "code",
   "execution_count": 15,
   "metadata": {},
   "outputs": [
    {
     "data": {
      "text/html": [
       "<div>\n",
       "<style scoped>\n",
       "    .dataframe tbody tr th:only-of-type {\n",
       "        vertical-align: middle;\n",
       "    }\n",
       "\n",
       "    .dataframe tbody tr th {\n",
       "        vertical-align: top;\n",
       "    }\n",
       "\n",
       "    .dataframe thead tr th {\n",
       "        text-align: left;\n",
       "    }\n",
       "</style>\n",
       "<table border=\"1\" class=\"dataframe\">\n",
       "  <thead>\n",
       "    <tr>\n",
       "      <th>Target</th>\n",
       "      <th colspan=\"6\" halign=\"left\">other</th>\n",
       "      <th colspan=\"6\" halign=\"left\">self</th>\n",
       "    </tr>\n",
       "    <tr>\n",
       "      <th>Diff_Neg</th>\n",
       "      <th>diffDec.jpg</th>\n",
       "      <th colspan=\"2\" halign=\"left\">diffLook.jpg</th>\n",
       "      <th colspan=\"3\" halign=\"left\">negativityScale.jpg</th>\n",
       "      <th>diffDec.jpg</th>\n",
       "      <th colspan=\"2\" halign=\"left\">diffLook.jpg</th>\n",
       "      <th colspan=\"3\" halign=\"left\">negativityScale.jpg</th>\n",
       "    </tr>\n",
       "    <tr>\n",
       "      <th>Condition</th>\n",
       "      <th>dec</th>\n",
       "      <th>neg</th>\n",
       "      <th>neut</th>\n",
       "      <th>dec</th>\n",
       "      <th>neg</th>\n",
       "      <th>neut</th>\n",
       "      <th>dec</th>\n",
       "      <th>neg</th>\n",
       "      <th>neut</th>\n",
       "      <th>dec</th>\n",
       "      <th>neg</th>\n",
       "      <th>neut</th>\n",
       "    </tr>\n",
       "  </thead>\n",
       "  <tbody>\n",
       "    <tr>\n",
       "      <th>Rating</th>\n",
       "      <td>4.6875</td>\n",
       "      <td>2.533333</td>\n",
       "      <td>1.0</td>\n",
       "      <td>4.642857</td>\n",
       "      <td>6.266667</td>\n",
       "      <td>1.0</td>\n",
       "      <td>4.846154</td>\n",
       "      <td>2.785714</td>\n",
       "      <td>1.2</td>\n",
       "      <td>5.75</td>\n",
       "      <td>6.75</td>\n",
       "      <td>1.3125</td>\n",
       "    </tr>\n",
       "  </tbody>\n",
       "</table>\n",
       "</div>"
      ],
      "text/plain": [
       "Target          other                                                       \\\n",
       "Diff_Neg  diffDec.jpg diffLook.jpg      negativityScale.jpg                  \n",
       "Condition         dec          neg neut                 dec       neg neut   \n",
       "Rating         4.6875     2.533333  1.0            4.642857  6.266667  1.0   \n",
       "\n",
       "Target           self                                                      \n",
       "Diff_Neg  diffDec.jpg diffLook.jpg      negativityScale.jpg                \n",
       "Condition         dec          neg neut                 dec   neg    neut  \n",
       "Rating       4.846154     2.785714  1.2                5.75  6.75  1.3125  "
      ]
     },
     "execution_count": 15,
     "metadata": {},
     "output_type": "execute_result"
    }
   ],
   "source": [
    "pd.DataFrame(ratings).T"
   ]
  },
  {
   "cell_type": "code",
   "execution_count": null,
   "metadata": {},
   "outputs": [],
   "source": []
  }
 ],
 "metadata": {
  "kernelspec": {
   "display_name": "Python 3",
   "language": "python",
   "name": "python3"
  },
  "language_info": {
   "codemirror_mode": {
    "name": "ipython",
    "version": 3
   },
   "file_extension": ".py",
   "mimetype": "text/x-python",
   "name": "python",
   "nbconvert_exporter": "python",
   "pygments_lexer": "ipython3",
   "version": "3.6.5"
  }
 },
 "nbformat": 4,
 "nbformat_minor": 2
}
